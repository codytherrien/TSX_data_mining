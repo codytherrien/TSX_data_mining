{
 "cells": [
  {
   "cell_type": "code",
   "execution_count": 19,
   "metadata": {},
   "outputs": [
    {
     "name": "stderr",
     "output_type": "stream",
     "text": [
      "[WDM] - Current google-chrome version is 87.0.4280\n",
      "[WDM] - Get LATEST driver version for 87.0.4280\n",
      "[WDM] - Driver [C:\\Users\\c_the\\.wdm\\drivers\\chromedriver\\win32\\87.0.4280.88\\chromedriver.exe] found in cache\n"
     ]
    },
    {
     "name": "stdout",
     "output_type": "stream",
     "text": [
      " \n"
     ]
    }
   ],
   "source": [
    "import pandas as pd\n",
    "from bs4 import BeautifulSoup\n",
    "import re\n",
    "import csv\n",
    "import os\n",
    "import datetime\n",
    "import time\n",
    "import random\n",
    "import pandas as pd\n",
    "from selenium import webdriver\n",
    "from webdriver_manager.chrome import ChromeDriverManager\n",
    "pd.options.display.float_format = '{:.0f}'.format\n",
    "driver = webdriver.Chrome(ChromeDriverManager().install())"
   ]
  },
  {
   "cell_type": "code",
   "execution_count": 20,
   "metadata": {},
   "outputs": [],
   "source": [
    "def open_link(symbol):\n",
    "    is_link = 'https://ca.finance.yahoo.com/quote/'+ symbol +'.TO/key-statistics?p=' + symbol + '.TO&.tsrc=fin-srch'\n",
    "    \n",
    "    #driver = webdriver.Chrome()\n",
    "    driver.get(is_link)\n",
    "    time.sleep(random.uniform(0.5, 3))\n",
    "    html = driver.execute_script('return document.body.innerHTML;')\n",
    "    soup = BeautifulSoup(html,'lxml')\n",
    "    return soup"
   ]
  },
  {
   "cell_type": "code",
   "execution_count": 24,
   "metadata": {},
   "outputs": [],
   "source": [
    "def check_stats(symbol):\n",
    "    soup = open_link(symbol)\n",
    "    stats = [entry.text for entry in soup.find_all('span', {'data-reactid':'21'})]\n",
    "    try:\n",
    "        if stats[1] == 'Statistics':\n",
    "            return True\n",
    "    except:\n",
    "        return False"
   ]
  },
  {
   "cell_type": "code",
   "execution_count": 25,
   "metadata": {},
   "outputs": [],
   "source": [
    "def generate_list(Letter_list):\n",
    "    auto_list = []\n",
    "    final_list = []\n",
    "    for letter in Letter_list:\n",
    "        with open('Symbols/' + letter + '.csv', mode = 'r', newline = '') as f:\n",
    "            csv_reader = csv.reader(f, delimiter = ',')\n",
    "            for line in f:\n",
    "                words = line.strip().split('.')\n",
    "                sym =''\n",
    "                for word in words:\n",
    "                    sym += word + '-'\n",
    "                sym = sym[:-1]\n",
    "                auto_list.append(sym)\n",
    "            f.close()\n",
    "    auto_list = list(dict.fromkeys(auto_list))\n",
    "    \n",
    "    random.shuffle(auto_list)\n",
    "    for symbol in auto_list:\n",
    "        if check_stats(symbol):\n",
    "            final_list.append(symbol)\n",
    "            print(symbol + '  ', end='')\n",
    " \n",
    "    with open('symbol list.csv', mode = 'w', newline = '') as f:\n",
    "        f_writer = csv.writer(f, delimiter = ',')\n",
    "        for symbol in final_list:\n",
    "            f_writer.writerow([symbol])\n",
    "        f.close()\n",
    "    print()\n",
    "    print('All Symbols Generated!!')"
   ]
  },
  {
   "cell_type": "code",
   "execution_count": 26,
   "metadata": {},
   "outputs": [
    {
     "name": "stdout",
     "output_type": "stream",
     "text": [
      "LUC  E  URB  BUI  GSV  EDR  OPS  XMF-A  CHW  LBS  MMP-UN  S  URE  TRI  IPO  AEG  NZC  VLE  PXT  PRQ  ME  HMM-A  CNU  CXB  WM  TMD  MTY  MOGO  CWEB  DR  MOGO-WT  DIR-UN  SXP  WLLW  AGF-B  MEQ  CRH  TPX-B  PFB  DIAM  AAV  SZLS-WT  TWM  FFH  BLX  GUD  NCM  WCM-A  PHX  AOT  SOY  JAG  L  MR-UN  AGI  TNX  AR  QSP-UN  ETX  FORZ  QEC  BDI  MDC-UN  EMP-A  SU  NUAG  CFP  WIR-UN  LUN  SWP  CPH  CTF-UN  LGT-A  FSZ  WELL  EGLX  ERO  SXI  OPT  GCG  FRX  AH  GDV  DRM  TNT-UN  AUMN  ZENA  CDD-UN  BNE  CIGI  BBU-UN  NCU  GWO  PSI  CGX  NIF-UN  CHE-UN  KRR  GLXY  MRG-UN  YCM  TBP  DRX  EXE  CM  TGO  CXI  Y  BK  APR-UN  VMD  RBA  IVQ-U  FAF  TPX-A  ADW-A  BHC  EIT-UN  SGR-U  CNR  INE  AND  MRU  GURU  AX-UN  MFI  CWEB-WR  PZA  GSY  SIL  ACQ  CRP  WCM-B  QBTC-U  TEV  TOY  SIS  VFF  RUS  SFC  IVQ  DF  PDV  WCN  LAM  BBD-B  SBR  ZZZ  CIX  III  MRD  TCW  OGD  AZZ  SGY  ESN  BLB-UN  PIPE-WT  XTG  PPL  OTEX  BB  MRE  PYR  VNP  CGO  SFD  PEY  MIN  POU  GLG  TSU  LABS  GRC  NPK  TOG  KEY  ATE  PHO  K  LAC  DBO  LIF  PMB-UN  AVP  DYA-WT  RS  MND  TV-WT  SIH-UN  KRR-WT  TI  FFN  FFH-U  SCY  MG  ROOT  CGI  PNP  UEX  EOX  IMV  IPL  TRIL  BR  CGG  PIC-A  CTC  SEC  LCS  PVG  GLO  FF  CJR-B  CU  APS  SSRM  KLS  PRN  KOR  PGI-UN  PTM  SWH  CCL-A  NWH-UN  CSW-B  SMT  BEI-UN  TCS  SHOP  UNS  NFI  CLS  WEF  CLIQ  GENM  BSX  GBT  RPI-UN  MXG  CF  NSR  GCM  BU  MSI  PSK  IBG  AKT-A  HAI  SAP  UNI  YGR  SRU-UN  EXN  AMM  SHLE  SOLG  KMP-UN  AUP  EQB  ACO-X  TML  TPZ  ELR-RT  SPPP  PHYS  NHK  NXE  VET  BPY-UN  SAU  BAD  NEPT  HBL-UN  BNK  VGZ  FXC  BLU  HOT-UN  VLN  MSV  DOL  ENB  NCF  VCM  EFR  CTC-A  IDG  DXT  CHP-UN  UNC  FCU  DII-B  RIB-UN  EFL  FR  CNT  HPS-A  GOOS  EIF  FVI  LUG  SIA  BIR  PTS  SMU-UN  HSE  WEED  WFC  CJT  WRG  FAP  INC-UN  ITE  PRU  VIVO  NRI  TMR  TOT  AYM  SOT-UN  NCU-WT  HUT  BAM-A  IPCO  BTCG-UN  EMA  OSK  TKO  FSV  GDI  CEU  WLLW-WT  HRX  ROXG  TECK-B  QTRH  PRM  TOU  MAG  COG  GPR  IMP  BMO  TRL  OGC  RFP  ORA  CDV  TXP  CWEB-WS  NHF-UN  CVG  REI-UN  OVV  DSG  SLF  CMG  MKP  EDV  TSL  SW  XAM  ERD  USF-UN  MDF  SSF-UN  POW  REAL  AKU  ET  AP-UN  ARE  ELD  ELR  NPI  MDI  SBB  UFS  TGOD-WB  LNF  CMMC  SAM  RCH  GIB-A  CEF-U  FIRE  TRZ  CPX  MDS-UN  FURY  CLR  PMN  NEXA  GGA  INF-UN  CCA  CEE  NOA  ALB  ENGH  HRR-UN  SVM  MRT-UN  CCM  AIM  CRWN  STLC  CFW-WT  GTE  ALC  HR-UN  KNT  SCL  SOP  RTG  LAS-A  SRV-UN  CRRX  CWX  DCBO  CP  MID-UN  MFC  TGZ  SJR-B  AI  SRX  GEC-UN  AEM  HSM  BTB-UN  ENI-UN  ALA  PLC  HRT  GGD  DS  LNR  NDM  JWEL  RECP  NVEI-U  MAW  ALS  GFL  EFN  TGL  TECK-A  GEI  DNT  ERF  ABX  ATA  CERV  TLO  ARG  SZLS  CNQ  ESI  WJX  LGT-B  FRU  VII  CAE  OLA  QBR-B  ADW-B  MGA  RCO-UN  CSU  MPCT-UN  MRC  AW-UN  WPK  XAU  MHC-U  IPCI  PL  NCP  TA  CTX  GVC  GCG-A  WRX  BDT  AHC  HE  PAT  MBX  SGR-UN  FSY  TVK  BSO-UN  GXE  PD  NEXT  AVCN  FTT  GRT-UN  PKI  SRHI  BIP-UN  FM  SLR  USA  JFS-UN  RAY-A  FOOD  OGI  BNG  SII  PBL  VGCX  GAU  CAR-UN  CVE  OR  CRT-UN  CFW  RNW  TC  PME  AD-UN  TVA-B  MOZ  ONC  ERE-UN  SSL  HGI-UN  WFS  TVE  FNV  AVL  RSI  QSR  ITH  AZG  FT  PSLV  BTO  WN  STEP  BEPC  CKI  PMT  SPG  FIH-U  WRN  H  PG  TCL-B  FC  BUA-UN  IGM  MAX  PRV-UN  KEI  AII  YRB  ADN  RBN-UN  LSPD  MX  BBL-A  AT  ORV  NAC-U  GCT-C  MARI  SKE  U  TBL  MAXR  PBY-UN  BCE  GDC  CWB  ASM  CJ  MKZ-UN  XTC  HWO  CRON  PLZ-UN  JE  PMTS  TWC  BPF-UN  TH  HFPC-U  WPM  PNC-B  DRT  CSM  WILD  SBN  FCR-UN  CG  MAV  FTS  GOLD  DFN  BRE  AOI  XTD  SZLS-WS  TCN  ELF  GCL  LXR  RAY-B  IVN  CU-X  ALYA  MTL  CEF  LB  AHC-WT  GMX  ETG  BKI  ECO  JOY  SGQ  DOO  PHYS-U  CCO  D-UN  DND  EQX  RCG  CPI  HEXO  ACO-Y  RCI-B  GIL  FRU-R  GDG-UN  PSLV-U  TD  SPB  TZS  NVA  GTMS  ASP  BIPC  WSP  RCI-A  SBI  TXG  TCL-A  MCB  WPRT  MBA  ABST  ANX  NGD  HWX  ITP  AAB  QETH-U  ISV  HZM  IN  DGS  INO-UN  NXJ  VB  DPM  TGOD-WR  AQN  INV  CSH-UN  TLG  HDI  BNAU  CPG  ONEX  AEZS  UDIV-B  CHR  DII-A  SJ  RAV-UN  ESM  CIQ-UN  MI-UN  CAS  IFA  SPPP-U  HCG  ECN  FTU  CSW-A  CRDL  AC  WTE  EXF  ASND  SNC  AFN  APY  TGOD-WA  GC  AQA  HOM-UN  EVT  DN  PNE  SCR  HOM-U  TSK  T  ATD-A  NWC  KPT  CUF-UN  INQ  PEA  KXS  TFII  FVL  CS  BC-U  TIH  WIR-U  APHA  IMG  X  BYD  WDO  BRY  RIV  CNE  DIV  GWR  SEA  IAG  CR  HLS  PIPE  BYL  CDAY  FN  CFX  ELEF  URB-A  STGO  WFT  GSC  CRR-UN  TGOD  SBC  NB  DNG  CUP-U  NEO  PTI-UN  KEG-UN  HLF  MAL  IFP  EFX  HBM  NSR-WT  PIF  CET  RVX  FRL-UN  APLI  PPR  NG  PATH  IMO  OLY  GEO  ENS  OMI  SVB  KRN  PNC-A  AYA  ATH  BEP-UN  MUX  MPVD  YRI  CYB  GCT  ATD-B  FAR  WBR  QBR-A  BCI  GATO  ATP  CGY  TBP-WT  VLNS  ICE  FFI-UN  OSP  BEK-B  OBE  TRQ  NTR  FTG  MMX  SMC  LGD  MEG  TV  BBTV  PAAS  BBD-A  KBL  DCM  UTE-UN  TRP  AJX  PSD  AIF  ACD  EDT  ACB  ARX  BNS  RDL  TXT-UN  BGI-UN  MIC  TCT-UN  IFC  NVCN  BTE  KEL  BOS  KL  LFE  OSB  QBTC  ATZ  MPC-C  MBCN  IIP-UN  FEC  AXU  BTCG-U  DYA  SES  TMQ  ORL  MBN  TF  OREA  CFF  NGT  AKT-B  HBP  BLDP  MPC  PBH  FRII  JOSE  MDNA  LN  GH  LGO  XCT  WCP  STN  DC-A  CIA  GDL  DML  NVEI  FTN  CCL-B  POM  PRMW  NA  RY  CWL  MQR  \n",
      "All Symbols Generated!!\n"
     ]
    }
   ],
   "source": [
    "Letter_list = ['A', 'B', 'C', 'D', 'E', 'F', 'G', 'H', 'I', 'J',\\\n",
    "               'K', 'L', 'M', 'N', 'O', 'P', 'Q', 'R', 'S', 'T',\\\n",
    "               'U', 'V', 'W', 'X', 'Y', 'Z', '00']\n",
    "generate_list(Letter_list)"
   ]
  },
  {
   "cell_type": "code",
   "execution_count": null,
   "metadata": {},
   "outputs": [],
   "source": []
  }
 ],
 "metadata": {
  "kernelspec": {
   "display_name": "Python 3",
   "language": "python",
   "name": "python3"
  },
  "language_info": {
   "codemirror_mode": {
    "name": "ipython",
    "version": 3
   },
   "file_extension": ".py",
   "mimetype": "text/x-python",
   "name": "python",
   "nbconvert_exporter": "python",
   "pygments_lexer": "ipython3",
   "version": "3.7.7"
  }
 },
 "nbformat": 4,
 "nbformat_minor": 4
}
